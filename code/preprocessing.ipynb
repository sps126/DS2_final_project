{
 "cells": [
  {
   "cell_type": "markdown",
   "id": "680e2012",
   "metadata": {},
   "source": [
    "# Preprocessing"
   ]
  },
  {
   "cell_type": "code",
   "execution_count": 18,
   "id": "6f667a11",
   "metadata": {},
   "outputs": [],
   "source": [
    "import pandas as pd\n",
    "import numpy as np\n",
    "from matplotlib import pyplot as plt"
   ]
  },
  {
   "cell_type": "code",
   "execution_count": 3,
   "id": "cdc3dc47",
   "metadata": {},
   "outputs": [
    {
     "data": {
      "text/html": [
       "<div>\n",
       "<style scoped>\n",
       "    .dataframe tbody tr th:only-of-type {\n",
       "        vertical-align: middle;\n",
       "    }\n",
       "\n",
       "    .dataframe tbody tr th {\n",
       "        vertical-align: top;\n",
       "    }\n",
       "\n",
       "    .dataframe thead th {\n",
       "        text-align: right;\n",
       "    }\n",
       "</style>\n",
       "<table border=\"1\" class=\"dataframe\">\n",
       "  <thead>\n",
       "    <tr style=\"text-align: right;\">\n",
       "      <th></th>\n",
       "      <th>ID</th>\n",
       "      <th>Gender</th>\n",
       "      <th>Race</th>\n",
       "      <th>Age_at_Release</th>\n",
       "      <th>Residence_PUMA</th>\n",
       "      <th>Gang_Affiliated</th>\n",
       "      <th>Supervision_Risk_Score_First</th>\n",
       "      <th>Supervision_Level_First</th>\n",
       "      <th>Education_Level</th>\n",
       "      <th>Dependents</th>\n",
       "      <th>...</th>\n",
       "      <th>DrugTests_Meth_Positive</th>\n",
       "      <th>DrugTests_Other_Positive</th>\n",
       "      <th>Percent_Days_Employed</th>\n",
       "      <th>Jobs_Per_Year</th>\n",
       "      <th>Employment_Exempt</th>\n",
       "      <th>Recidivism_Within_3years</th>\n",
       "      <th>Recidivism_Arrest_Year1</th>\n",
       "      <th>Recidivism_Arrest_Year2</th>\n",
       "      <th>Recidivism_Arrest_Year3</th>\n",
       "      <th>Training_Sample</th>\n",
       "    </tr>\n",
       "  </thead>\n",
       "  <tbody>\n",
       "    <tr>\n",
       "      <th>0</th>\n",
       "      <td>1</td>\n",
       "      <td>M</td>\n",
       "      <td>BLACK</td>\n",
       "      <td>43-47</td>\n",
       "      <td>16</td>\n",
       "      <td>False</td>\n",
       "      <td>3.0</td>\n",
       "      <td>Standard</td>\n",
       "      <td>At least some college</td>\n",
       "      <td>3 or more</td>\n",
       "      <td>...</td>\n",
       "      <td>0.0</td>\n",
       "      <td>0.0</td>\n",
       "      <td>0.488562</td>\n",
       "      <td>0.44761</td>\n",
       "      <td>False</td>\n",
       "      <td>False</td>\n",
       "      <td>False</td>\n",
       "      <td>False</td>\n",
       "      <td>False</td>\n",
       "      <td>1</td>\n",
       "    </tr>\n",
       "    <tr>\n",
       "      <th>1</th>\n",
       "      <td>2</td>\n",
       "      <td>M</td>\n",
       "      <td>BLACK</td>\n",
       "      <td>33-37</td>\n",
       "      <td>16</td>\n",
       "      <td>False</td>\n",
       "      <td>6.0</td>\n",
       "      <td>Specialized</td>\n",
       "      <td>Less than HS diploma</td>\n",
       "      <td>1</td>\n",
       "      <td>...</td>\n",
       "      <td>0.0</td>\n",
       "      <td>0.0</td>\n",
       "      <td>0.425234</td>\n",
       "      <td>2.00000</td>\n",
       "      <td>False</td>\n",
       "      <td>True</td>\n",
       "      <td>False</td>\n",
       "      <td>False</td>\n",
       "      <td>True</td>\n",
       "      <td>1</td>\n",
       "    </tr>\n",
       "  </tbody>\n",
       "</table>\n",
       "<p>2 rows × 54 columns</p>\n",
       "</div>"
      ],
      "text/plain": [
       "   ID Gender   Race Age_at_Release  Residence_PUMA Gang_Affiliated  \\\n",
       "0   1      M  BLACK          43-47              16           False   \n",
       "1   2      M  BLACK          33-37              16           False   \n",
       "\n",
       "   Supervision_Risk_Score_First Supervision_Level_First  \\\n",
       "0                           3.0                Standard   \n",
       "1                           6.0             Specialized   \n",
       "\n",
       "         Education_Level Dependents  ... DrugTests_Meth_Positive  \\\n",
       "0  At least some college  3 or more  ...                     0.0   \n",
       "1   Less than HS diploma          1  ...                     0.0   \n",
       "\n",
       "  DrugTests_Other_Positive Percent_Days_Employed Jobs_Per_Year  \\\n",
       "0                      0.0              0.488562       0.44761   \n",
       "1                      0.0              0.425234       2.00000   \n",
       "\n",
       "  Employment_Exempt Recidivism_Within_3years Recidivism_Arrest_Year1  \\\n",
       "0             False                    False                   False   \n",
       "1             False                     True                   False   \n",
       "\n",
       "  Recidivism_Arrest_Year2  Recidivism_Arrest_Year3  Training_Sample  \n",
       "0                   False                    False                1  \n",
       "1                   False                     True                1  \n",
       "\n",
       "[2 rows x 54 columns]"
      ]
     },
     "execution_count": 3,
     "metadata": {},
     "output_type": "execute_result"
    }
   ],
   "source": [
    "data = pd.read_csv('NIJ_s_Recidivism_Challenge_Full_Dataset.csv')\n",
    "data.head(2)"
   ]
  },
  {
   "cell_type": "code",
   "execution_count": 4,
   "id": "4a2a60c1",
   "metadata": {},
   "outputs": [],
   "source": [
    "clean_data = data\n",
    "#dummy variables \n",
    "clean_data = pd.get_dummies(data, columns=['Race','Gender', 'Gang_Affiliated', 'Prior_Arrest_Episodes_DVCharges',\n",
    "                                    'Prior_Conviction_Episodes_Viol', 'Prior_Conviction_Episodes_PPViolationCharges',\n",
    "                                    'Prior_Revocations_Parole','Prior_Revocations_Probation', \n",
    "                                    'Prison_Offense'],drop_first=True)"
   ]
  },
  {
   "cell_type": "markdown",
   "id": "a669c94c",
   "metadata": {},
   "source": [
    "## Descriptive Statistics"
   ]
  },
  {
   "cell_type": "code",
   "execution_count": 6,
   "id": "a412141a",
   "metadata": {},
   "outputs": [
    {
     "data": {
      "text/html": [
       "<div>\n",
       "<style scoped>\n",
       "    .dataframe tbody tr th:only-of-type {\n",
       "        vertical-align: middle;\n",
       "    }\n",
       "\n",
       "    .dataframe tbody tr th {\n",
       "        vertical-align: top;\n",
       "    }\n",
       "\n",
       "    .dataframe thead th {\n",
       "        text-align: right;\n",
       "    }\n",
       "</style>\n",
       "<table border=\"1\" class=\"dataframe\">\n",
       "  <thead>\n",
       "    <tr style=\"text-align: right;\">\n",
       "      <th></th>\n",
       "      <th>count</th>\n",
       "      <th>mean</th>\n",
       "      <th>std</th>\n",
       "      <th>min</th>\n",
       "      <th>25%</th>\n",
       "      <th>50%</th>\n",
       "      <th>75%</th>\n",
       "      <th>max</th>\n",
       "    </tr>\n",
       "  </thead>\n",
       "  <tbody>\n",
       "    <tr>\n",
       "      <th>Prior_Revocations_Probation_True</th>\n",
       "      <td>25835.0</td>\n",
       "      <td>0.146</td>\n",
       "      <td>0.353</td>\n",
       "      <td>0.0</td>\n",
       "      <td>0.0</td>\n",
       "      <td>0.000</td>\n",
       "      <td>0.000</td>\n",
       "      <td>1.0</td>\n",
       "    </tr>\n",
       "    <tr>\n",
       "      <th>Prior_Revocations_Parole_True</th>\n",
       "      <td>25835.0</td>\n",
       "      <td>0.096</td>\n",
       "      <td>0.294</td>\n",
       "      <td>0.0</td>\n",
       "      <td>0.0</td>\n",
       "      <td>0.000</td>\n",
       "      <td>0.000</td>\n",
       "      <td>1.0</td>\n",
       "    </tr>\n",
       "    <tr>\n",
       "      <th>Prior_Conviction_Episodes_PPViolationCharges_True</th>\n",
       "      <td>25835.0</td>\n",
       "      <td>0.328</td>\n",
       "      <td>0.469</td>\n",
       "      <td>0.0</td>\n",
       "      <td>0.0</td>\n",
       "      <td>0.000</td>\n",
       "      <td>1.000</td>\n",
       "      <td>1.0</td>\n",
       "    </tr>\n",
       "    <tr>\n",
       "      <th>Prior_Conviction_Episodes_Viol_True</th>\n",
       "      <td>25835.0</td>\n",
       "      <td>0.325</td>\n",
       "      <td>0.468</td>\n",
       "      <td>0.0</td>\n",
       "      <td>0.0</td>\n",
       "      <td>0.000</td>\n",
       "      <td>1.000</td>\n",
       "      <td>1.0</td>\n",
       "    </tr>\n",
       "    <tr>\n",
       "      <th>Prior_Arrest_Episodes_DVCharges_True</th>\n",
       "      <td>25835.0</td>\n",
       "      <td>0.165</td>\n",
       "      <td>0.371</td>\n",
       "      <td>0.0</td>\n",
       "      <td>0.0</td>\n",
       "      <td>0.000</td>\n",
       "      <td>0.000</td>\n",
       "      <td>1.0</td>\n",
       "    </tr>\n",
       "    <tr>\n",
       "      <th>Gang_Affiliated_True</th>\n",
       "      <td>25835.0</td>\n",
       "      <td>0.152</td>\n",
       "      <td>0.359</td>\n",
       "      <td>0.0</td>\n",
       "      <td>0.0</td>\n",
       "      <td>0.000</td>\n",
       "      <td>0.000</td>\n",
       "      <td>1.0</td>\n",
       "    </tr>\n",
       "    <tr>\n",
       "      <th>Gender_M</th>\n",
       "      <td>25835.0</td>\n",
       "      <td>0.877</td>\n",
       "      <td>0.328</td>\n",
       "      <td>0.0</td>\n",
       "      <td>1.0</td>\n",
       "      <td>1.000</td>\n",
       "      <td>1.000</td>\n",
       "      <td>1.0</td>\n",
       "    </tr>\n",
       "    <tr>\n",
       "      <th>Supervision_Risk_Score_First</th>\n",
       "      <td>25360.0</td>\n",
       "      <td>6.082</td>\n",
       "      <td>2.381</td>\n",
       "      <td>1.0</td>\n",
       "      <td>4.0</td>\n",
       "      <td>6.000</td>\n",
       "      <td>8.000</td>\n",
       "      <td>10.0</td>\n",
       "    </tr>\n",
       "    <tr>\n",
       "      <th>Percent_Days_Employed</th>\n",
       "      <td>25373.0</td>\n",
       "      <td>0.482</td>\n",
       "      <td>0.425</td>\n",
       "      <td>0.0</td>\n",
       "      <td>0.0</td>\n",
       "      <td>0.476</td>\n",
       "      <td>0.969</td>\n",
       "      <td>1.0</td>\n",
       "    </tr>\n",
       "  </tbody>\n",
       "</table>\n",
       "</div>"
      ],
      "text/plain": [
       "                                                     count   mean    std  min  \\\n",
       "Prior_Revocations_Probation_True                   25835.0  0.146  0.353  0.0   \n",
       "Prior_Revocations_Parole_True                      25835.0  0.096  0.294  0.0   \n",
       "Prior_Conviction_Episodes_PPViolationCharges_True  25835.0  0.328  0.469  0.0   \n",
       "Prior_Conviction_Episodes_Viol_True                25835.0  0.325  0.468  0.0   \n",
       "Prior_Arrest_Episodes_DVCharges_True               25835.0  0.165  0.371  0.0   \n",
       "Gang_Affiliated_True                               25835.0  0.152  0.359  0.0   \n",
       "Gender_M                                           25835.0  0.877  0.328  0.0   \n",
       "Supervision_Risk_Score_First                       25360.0  6.082  2.381  1.0   \n",
       "Percent_Days_Employed                              25373.0  0.482  0.425  0.0   \n",
       "\n",
       "                                                   25%    50%    75%   max  \n",
       "Prior_Revocations_Probation_True                   0.0  0.000  0.000   1.0  \n",
       "Prior_Revocations_Parole_True                      0.0  0.000  0.000   1.0  \n",
       "Prior_Conviction_Episodes_PPViolationCharges_True  0.0  0.000  1.000   1.0  \n",
       "Prior_Conviction_Episodes_Viol_True                0.0  0.000  1.000   1.0  \n",
       "Prior_Arrest_Episodes_DVCharges_True               0.0  0.000  0.000   1.0  \n",
       "Gang_Affiliated_True                               0.0  0.000  0.000   1.0  \n",
       "Gender_M                                           1.0  1.000  1.000   1.0  \n",
       "Supervision_Risk_Score_First                       4.0  6.000  8.000  10.0  \n",
       "Percent_Days_Employed                              0.0  0.476  0.969   1.0  "
      ]
     },
     "execution_count": 6,
     "metadata": {},
     "output_type": "execute_result"
    }
   ],
   "source": [
    "#data for descriptive stats\n",
    "descriptive_stats = clean_data[['Recidivism_Within_3years', 'Prior_Revocations_Probation_True', 'Prior_Revocations_Parole_True',\n",
    "                      'Prior_Conviction_Episodes_PPViolationCharges_True', 'Prior_Conviction_Episodes_Viol_True',\n",
    "                      'Prior_Arrest_Episodes_DVCharges_True', 'Gang_Affiliated_True', 'Gender_M',\n",
    "                      'Supervision_Risk_Score_First', 'Percent_Days_Employed']].describe().T.round(3)\n",
    "descriptive_stats"
   ]
  },
  {
   "cell_type": "code",
   "execution_count": 7,
   "id": "5d9f7f01",
   "metadata": {},
   "outputs": [],
   "source": [
    "#defining function to export table to a document\n",
    "def export_table(dataframe, name):\n",
    "    # open an existing document\n",
    "    doc = docx.Document()\n",
    "\n",
    "    # add a table to the end and create a reference variable\n",
    "    # extra row is so we can add the header row\n",
    "    t = doc.add_table(dataframe.shape[0]+1, dataframe.shape[1])\n",
    "\n",
    "    # add the header rows.\n",
    "    for j in range(dataframe.shape[-1]):\n",
    "        t.cell(0,j).text = dataframe.columns[j]\n",
    "\n",
    "    # add the rest of the data frame\n",
    "    for i in range(dataframe.shape[0]):\n",
    "        for j in range(dataframe.shape[-1]):\n",
    "            t.cell(i+1,j).text = str(dataframe.values[i,j])\n",
    "\n",
    "    # save the doc\n",
    "    doc.save(name)"
   ]
  },
  {
   "cell_type": "code",
   "execution_count": 8,
   "id": "75232868",
   "metadata": {},
   "outputs": [],
   "source": [
    "#commenting out so it doesnt keep saving as i run all \n",
    "#export_table(descriptive_stats, 'num.docx')"
   ]
  },
  {
   "cell_type": "code",
   "execution_count": 9,
   "id": "eded8c18",
   "metadata": {},
   "outputs": [
    {
     "data": {
      "text/html": [
       "<div>\n",
       "<style scoped>\n",
       "    .dataframe tbody tr th:only-of-type {\n",
       "        vertical-align: middle;\n",
       "    }\n",
       "\n",
       "    .dataframe tbody tr th {\n",
       "        vertical-align: top;\n",
       "    }\n",
       "\n",
       "    .dataframe thead th {\n",
       "        text-align: right;\n",
       "    }\n",
       "</style>\n",
       "<table border=\"1\" class=\"dataframe\">\n",
       "  <thead>\n",
       "    <tr style=\"text-align: right;\">\n",
       "      <th></th>\n",
       "      <th>count</th>\n",
       "      <th>unique</th>\n",
       "      <th>top</th>\n",
       "      <th>freq</th>\n",
       "    </tr>\n",
       "  </thead>\n",
       "  <tbody>\n",
       "    <tr>\n",
       "      <th>Age_at_Release</th>\n",
       "      <td>25835</td>\n",
       "      <td>7</td>\n",
       "      <td>23-27</td>\n",
       "      <td>5176</td>\n",
       "    </tr>\n",
       "    <tr>\n",
       "      <th>Supervision_Level_First</th>\n",
       "      <td>24115</td>\n",
       "      <td>3</td>\n",
       "      <td>Standard</td>\n",
       "      <td>9983</td>\n",
       "    </tr>\n",
       "    <tr>\n",
       "      <th>Education_Level</th>\n",
       "      <td>25835</td>\n",
       "      <td>3</td>\n",
       "      <td>High School Diploma</td>\n",
       "      <td>11390</td>\n",
       "    </tr>\n",
       "    <tr>\n",
       "      <th>Race</th>\n",
       "      <td>25835</td>\n",
       "      <td>2</td>\n",
       "      <td>BLACK</td>\n",
       "      <td>14847</td>\n",
       "    </tr>\n",
       "    <tr>\n",
       "      <th>Prison_Offense</th>\n",
       "      <td>22558</td>\n",
       "      <td>5</td>\n",
       "      <td>Property</td>\n",
       "      <td>8284</td>\n",
       "    </tr>\n",
       "    <tr>\n",
       "      <th>Dependents</th>\n",
       "      <td>25835</td>\n",
       "      <td>4</td>\n",
       "      <td>0</td>\n",
       "      <td>8037</td>\n",
       "    </tr>\n",
       "    <tr>\n",
       "      <th>Prison_Years</th>\n",
       "      <td>25835</td>\n",
       "      <td>4</td>\n",
       "      <td>1-2 years</td>\n",
       "      <td>8084</td>\n",
       "    </tr>\n",
       "    <tr>\n",
       "      <th>Prior_Arrest_Episodes_Felony</th>\n",
       "      <td>25835</td>\n",
       "      <td>11</td>\n",
       "      <td>10 or more</td>\n",
       "      <td>6140</td>\n",
       "    </tr>\n",
       "    <tr>\n",
       "      <th>Prior_Arrest_Episodes_Violent</th>\n",
       "      <td>25835</td>\n",
       "      <td>4</td>\n",
       "      <td>0</td>\n",
       "      <td>11049</td>\n",
       "    </tr>\n",
       "  </tbody>\n",
       "</table>\n",
       "</div>"
      ],
      "text/plain": [
       "                               count unique                  top   freq\n",
       "Age_at_Release                 25835      7                23-27   5176\n",
       "Supervision_Level_First        24115      3             Standard   9983\n",
       "Education_Level                25835      3  High School Diploma  11390\n",
       "Race                           25835      2                BLACK  14847\n",
       "Prison_Offense                 22558      5             Property   8284\n",
       "Dependents                     25835      4                    0   8037\n",
       "Prison_Years                   25835      4            1-2 years   8084\n",
       "Prior_Arrest_Episodes_Felony   25835     11           10 or more   6140\n",
       "Prior_Arrest_Episodes_Violent  25835      4                    0  11049"
      ]
     },
     "execution_count": 9,
     "metadata": {},
     "output_type": "execute_result"
    }
   ],
   "source": [
    "#same as above for categorical data\n",
    "categorical_data = data[['Age_at_Release', 'Supervision_Level_First', 'Education_Level', 'Race', 'Prison_Offense',\n",
    "            'Dependents', 'Prison_Years', 'Prior_Arrest_Episodes_Felony',\n",
    "            'Prior_Arrest_Episodes_Violent']].describe(include='all').T\n",
    "categorical_data"
   ]
  },
  {
   "cell_type": "code",
   "execution_count": 10,
   "id": "1c5637e0",
   "metadata": {},
   "outputs": [],
   "source": [
    "#commenting out so it doesnt keep saving as i run all \n",
    "#export_table(categorical_data, 'cat.docx')"
   ]
  },
  {
   "cell_type": "code",
   "execution_count": 11,
   "id": "6ed9da6a",
   "metadata": {},
   "outputs": [
    {
     "data": {
      "text/plain": [
       "High School Diploma      11390\n",
       "Less than HS diploma      9840\n",
       "At least some college     4605\n",
       "Name: Education_Level, dtype: int64"
      ]
     },
     "execution_count": 11,
     "metadata": {},
     "output_type": "execute_result"
    }
   ],
   "source": [
    "data.Education_Level.value_counts()"
   ]
  },
  {
   "cell_type": "code",
   "execution_count": 12,
   "id": "b7af1351",
   "metadata": {},
   "outputs": [
    {
     "data": {
      "text/plain": [
       "Property           8284\n",
       "Violent/Non-Sex    5475\n",
       "Drug               5190\n",
       "Other              2779\n",
       "Violent/Sex         830\n",
       "Name: Prison_Offense, dtype: int64"
      ]
     },
     "execution_count": 12,
     "metadata": {},
     "output_type": "execute_result"
    }
   ],
   "source": [
    "data.Prison_Offense.value_counts()"
   ]
  },
  {
   "cell_type": "code",
   "execution_count": 13,
   "id": "aa9f8f5b",
   "metadata": {},
   "outputs": [
    {
     "data": {
      "text/plain": [
       "BLACK    14847\n",
       "WHITE    10988\n",
       "Name: Race, dtype: int64"
      ]
     },
     "execution_count": 13,
     "metadata": {},
     "output_type": "execute_result"
    }
   ],
   "source": [
    "data.Race.value_counts()"
   ]
  },
  {
   "cell_type": "markdown",
   "id": "7948b00a",
   "metadata": {},
   "source": [
    "## Graphs"
   ]
  },
  {
   "cell_type": "code",
   "execution_count": 14,
   "id": "7a2a7d9f",
   "metadata": {},
   "outputs": [],
   "source": [
    "def graph(df, col1, tick, title, xlab):\n",
    "    #grouping and creating dataframe\n",
    "    new= df.groupby([col1,'Recidivism_Within_3years']).size().reset_index()\n",
    "    data =pd.DataFrame(new)\n",
    "    #getting individual bar dfs to stack\n",
    "    recidivism_false = data[data['Recidivism_Within_3years']==0]\n",
    "    recidivism_true = data[data['Recidivism_Within_3years']==1]\n",
    "    #graphing\n",
    "    x_pos=np.arange(len(recidivism_false))\n",
    "    tick_labels = tick\n",
    "    plt.figure(figsize=(10, 8))\n",
    "    plt.bar(x_pos - 0.2, recidivism_false[0], width=0.4, label='Recidivism False', color='#4f674f')\n",
    "    plt.bar(x_pos + 0.2, recidivism_true[0], width=0.4, label='Recidivism True', color = '#b7cdb7')\n",
    "    plt.xticks(x_pos, tick_labels)\n",
    "    plt.title(title,  fontdict={'fontsize': 20})\n",
    "    plt.xlabel(xlab,  fontdict={'fontsize': 16})\n",
    "    plt.ylabel(\"Count\", fontdict={'fontsize': 16})\n",
    "    plt.legend()\n",
    "    #commenting out so it doesnt keep saving as i run all \n",
    "    #plt.savefig('education_level.png')\n",
    "    return  plt.show()"
   ]
  },
  {
   "cell_type": "code",
   "execution_count": 19,
   "id": "9eefa1e1",
   "metadata": {},
   "outputs": [
    {
     "data": {
      "image/png": "[encoded data removed]",
      "text/plain": [
       "<Figure size 720x576 with 1 Axes>"
      ]
     },
     "metadata": {
      "needs_background": "light"
     },
     "output_type": "display_data"
    }
   ],
   "source": [
    "ticks = ['At least some college','High School Diploma','Less than HS diploma']\n",
    "title= \"Education Level on Recidivism\"\n",
    "xlab= \"Education\"\n",
    "graph(clean_data, 'Education_Level', ticks, title, xlab)"
   ]
  },
  {
   "cell_type": "code",
   "execution_count": 20,
   "id": "110c038e",
   "metadata": {},
   "outputs": [
    {
     "data": {
      "image/png": "[encoded data removed]",
      "text/plain": [
       "<Figure size 720x576 with 1 Axes>"
      ]
     },
     "metadata": {
      "needs_background": "light"
     },
     "output_type": "display_data"
    }
   ],
   "source": [
    "ticks= ['Female','Male']\n",
    "title= 'Gender on Recidivism'\n",
    "xlab= 'Gender'\n",
    "graph(clean_data, 'Gender_M', ticks, title,xlab)"
   ]
  },
  {
   "cell_type": "code",
   "execution_count": 21,
   "id": "febb3540",
   "metadata": {},
   "outputs": [
    {
     "data": {
      "image/png": "[encoded data removed]",
      "text/plain": [
       "<Figure size 720x576 with 1 Axes>"
      ]
     },
     "metadata": {
      "needs_background": "light"
     },
     "output_type": "display_data"
    }
   ],
   "source": [
    "ticks= ['High','Specialized', 'Standard']\n",
    "title= 'Supervision Level on Recidivism'\n",
    "xlab= 'Supervision Level'\n",
    "graph(clean_data, 'Supervision_Level_First', ticks, title,xlab)"
   ]
  },
  {
   "cell_type": "code",
   "execution_count": 23,
   "id": "fe2b11f5",
   "metadata": {},
   "outputs": [
    {
     "data": {
      "image/png": "[encoded data removed]",
      "text/plain": [
       "<Figure size 720x576 with 1 Axes>"
      ]
     },
     "metadata": {
      "needs_background": "light"
     },
     "output_type": "display_data"
    }
   ],
   "source": [
    "ticks= ['1', '2', '3', '4', '5', '6', '7', '8', '9', '10']\n",
    "title= 'Supervision Risk Score on Recidivism'\n",
    "xlab= 'Supervision Risk Score First'\n",
    "graph(clean_data, 'Supervision_Risk_Score_First', ticks, title,xlab)"
   ]
  }
 ],
 "metadata": {
  "kernelspec": {
   "display_name": "Python 3 (ipykernel)",
   "language": "python",
   "name": "python3"
  },
  "language_info": {
   "codemirror_mode": {
    "name": "ipython",
    "version": 3
   },
   "file_extension": ".py",
   "mimetype": "text/x-python",
   "name": "python",
   "nbconvert_exporter": "python",
   "pygments_lexer": "ipython3",
   "version": "3.9.12"
  }
 },
 "nbformat": 4,
 "nbformat_minor": 5
}
