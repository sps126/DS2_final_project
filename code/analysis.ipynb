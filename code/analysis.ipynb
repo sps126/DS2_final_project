{
 "cells": [
  {
   "cell_type": "markdown",
   "id": "570a79a7",
   "metadata": {},
   "source": [
    "# Analysis"
   ]
  },
  {
   "cell_type": "code",
   "execution_count": 1,
   "id": "eebe0d9b",
   "metadata": {},
   "outputs": [],
   "source": [
    "import pandas as pd\n",
    "import numpy as np\n",
    "import tabulate as tabualte \n",
    "pd.set_option('display.max_columns', 500)\n",
    "import docx\n",
    "from matplotlib import pyplot as plt\n",
    "from sklearn.linear_model import LogisticRegression\n",
    "from sklearn.preprocessing import LabelEncoder, StandardScaler\n",
    "from sklearn.model_selection import cross_val_score, validation_curve, train_test_split\n",
    "from sklearn.metrics import confusion_matrix, recall_score, accuracy_score, precision_score\n",
    "from sklearn.svm import SVC\n",
    "from sklearn.tree import DecisionTreeClassifier\n",
    "from sklearn.ensemble import RandomForestClassifier, AdaBoostClassifier\n",
    "from sklearn.feature_selection import SequentialFeatureSelector\n",
    "from pretty_confusion_matrix import pp_matrix\n",
    "import seaborn as sns"
   ]
  },
  {
   "cell_type": "code",
   "execution_count": 11,
   "id": "1ee126c6",
   "metadata": {},
   "outputs": [],
   "source": [
    "data = pd.read_csv('NIJ_s_Recidivism_Challenge_Full_Dataset.csv')"
   ]
  },
  {
   "cell_type": "markdown",
   "id": "9073dde4",
   "metadata": {},
   "source": [
    "## Models Based on Literature Review/ Domain Knowledge"
   ]
  },
  {
   "cell_type": "code",
   "execution_count": 12,
   "id": "bca7faed",
   "metadata": {},
   "outputs": [],
   "source": [
    "#encoding full datadata \n",
    "clean_data = data.apply(LabelEncoder().fit_transform)"
   ]
  },
  {
   "cell_type": "code",
   "execution_count": 13,
   "id": "7426923e",
   "metadata": {},
   "outputs": [
    {
     "data": {
      "text/html": [
       "<div>\n",
       "<style scoped>\n",
       "    .dataframe tbody tr th:only-of-type {\n",
       "        vertical-align: middle;\n",
       "    }\n",
       "\n",
       "    .dataframe tbody tr th {\n",
       "        vertical-align: top;\n",
       "    }\n",
       "\n",
       "    .dataframe thead th {\n",
       "        text-align: right;\n",
       "    }\n",
       "</style>\n",
       "<table border=\"1\" class=\"dataframe\">\n",
       "  <thead>\n",
       "    <tr style=\"text-align: right;\">\n",
       "      <th></th>\n",
       "      <th>ID</th>\n",
       "      <th>Gender</th>\n",
       "      <th>Race</th>\n",
       "      <th>Age_at_Release</th>\n",
       "      <th>Residence_PUMA</th>\n",
       "      <th>Gang_Affiliated</th>\n",
       "      <th>Supervision_Risk_Score_First</th>\n",
       "      <th>Supervision_Level_First</th>\n",
       "      <th>Education_Level</th>\n",
       "      <th>Dependents</th>\n",
       "      <th>Prison_Offense</th>\n",
       "      <th>Prison_Years</th>\n",
       "      <th>Prior_Arrest_Episodes_Felony</th>\n",
       "      <th>Prior_Arrest_Episodes_Misd</th>\n",
       "      <th>Prior_Arrest_Episodes_Violent</th>\n",
       "      <th>Prior_Arrest_Episodes_Property</th>\n",
       "      <th>Prior_Arrest_Episodes_Drug</th>\n",
       "      <th>Prior_Arrest_Episodes_PPViolationCharges</th>\n",
       "      <th>Prior_Arrest_Episodes_DVCharges</th>\n",
       "      <th>Prior_Arrest_Episodes_GunCharges</th>\n",
       "      <th>Prior_Conviction_Episodes_Felony</th>\n",
       "      <th>Prior_Conviction_Episodes_Misd</th>\n",
       "      <th>Prior_Conviction_Episodes_Viol</th>\n",
       "      <th>Prior_Conviction_Episodes_Prop</th>\n",
       "      <th>Prior_Conviction_Episodes_Drug</th>\n",
       "      <th>Prior_Conviction_Episodes_PPViolationCharges</th>\n",
       "      <th>Prior_Conviction_Episodes_DomesticViolenceCharges</th>\n",
       "      <th>Prior_Conviction_Episodes_GunCharges</th>\n",
       "      <th>Prior_Revocations_Parole</th>\n",
       "      <th>Prior_Revocations_Probation</th>\n",
       "      <th>Condition_MH_SA</th>\n",
       "      <th>Condition_Cog_Ed</th>\n",
       "      <th>Condition_Other</th>\n",
       "      <th>Violations_ElectronicMonitoring</th>\n",
       "      <th>Violations_Instruction</th>\n",
       "      <th>Violations_FailToReport</th>\n",
       "      <th>Violations_MoveWithoutPermission</th>\n",
       "      <th>Delinquency_Reports</th>\n",
       "      <th>Program_Attendances</th>\n",
       "      <th>Program_UnexcusedAbsences</th>\n",
       "      <th>Residence_Changes</th>\n",
       "      <th>Avg_Days_per_DrugTest</th>\n",
       "      <th>DrugTests_THC_Positive</th>\n",
       "      <th>DrugTests_Cocaine_Positive</th>\n",
       "      <th>DrugTests_Meth_Positive</th>\n",
       "      <th>DrugTests_Other_Positive</th>\n",
       "      <th>Percent_Days_Employed</th>\n",
       "      <th>Jobs_Per_Year</th>\n",
       "      <th>Employment_Exempt</th>\n",
       "      <th>Recidivism_Within_3years</th>\n",
       "      <th>Recidivism_Arrest_Year1</th>\n",
       "      <th>Recidivism_Arrest_Year2</th>\n",
       "      <th>Recidivism_Arrest_Year3</th>\n",
       "      <th>Training_Sample</th>\n",
       "    </tr>\n",
       "  </thead>\n",
       "  <tbody>\n",
       "    <tr>\n",
       "      <th>0</th>\n",
       "      <td>0</td>\n",
       "      <td>1</td>\n",
       "      <td>0</td>\n",
       "      <td>5</td>\n",
       "      <td>15</td>\n",
       "      <td>0</td>\n",
       "      <td>2</td>\n",
       "      <td>2</td>\n",
       "      <td>0</td>\n",
       "      <td>3</td>\n",
       "      <td>0</td>\n",
       "      <td>3</td>\n",
       "      <td>7</td>\n",
       "      <td>6</td>\n",
       "      <td>1</td>\n",
       "      <td>3</td>\n",
       "      <td>3</td>\n",
       "      <td>4</td>\n",
       "      <td>0</td>\n",
       "      <td>0</td>\n",
       "      <td>3</td>\n",
       "      <td>3</td>\n",
       "      <td>0</td>\n",
       "      <td>2</td>\n",
       "      <td>2</td>\n",
       "      <td>0</td>\n",
       "      <td>0</td>\n",
       "      <td>0</td>\n",
       "      <td>0</td>\n",
       "      <td>0</td>\n",
       "      <td>1</td>\n",
       "      <td>1</td>\n",
       "      <td>0</td>\n",
       "      <td>0</td>\n",
       "      <td>0</td>\n",
       "      <td>0</td>\n",
       "      <td>0</td>\n",
       "      <td>0</td>\n",
       "      <td>7</td>\n",
       "      <td>0</td>\n",
       "      <td>2</td>\n",
       "      <td>9639</td>\n",
       "      <td>0</td>\n",
       "      <td>0</td>\n",
       "      <td>0</td>\n",
       "      <td>0</td>\n",
       "      <td>4370</td>\n",
       "      <td>1192</td>\n",
       "      <td>0</td>\n",
       "      <td>0</td>\n",
       "      <td>0</td>\n",
       "      <td>0</td>\n",
       "      <td>0</td>\n",
       "      <td>1</td>\n",
       "    </tr>\n",
       "    <tr>\n",
       "      <th>1</th>\n",
       "      <td>1</td>\n",
       "      <td>1</td>\n",
       "      <td>0</td>\n",
       "      <td>3</td>\n",
       "      <td>15</td>\n",
       "      <td>0</td>\n",
       "      <td>5</td>\n",
       "      <td>1</td>\n",
       "      <td>2</td>\n",
       "      <td>1</td>\n",
       "      <td>3</td>\n",
       "      <td>3</td>\n",
       "      <td>8</td>\n",
       "      <td>6</td>\n",
       "      <td>3</td>\n",
       "      <td>0</td>\n",
       "      <td>3</td>\n",
       "      <td>5</td>\n",
       "      <td>1</td>\n",
       "      <td>0</td>\n",
       "      <td>3</td>\n",
       "      <td>4</td>\n",
       "      <td>1</td>\n",
       "      <td>0</td>\n",
       "      <td>2</td>\n",
       "      <td>1</td>\n",
       "      <td>1</td>\n",
       "      <td>1</td>\n",
       "      <td>0</td>\n",
       "      <td>0</td>\n",
       "      <td>0</td>\n",
       "      <td>0</td>\n",
       "      <td>0</td>\n",
       "      <td>0</td>\n",
       "      <td>1</td>\n",
       "      <td>0</td>\n",
       "      <td>0</td>\n",
       "      <td>4</td>\n",
       "      <td>0</td>\n",
       "      <td>0</td>\n",
       "      <td>2</td>\n",
       "      <td>3570</td>\n",
       "      <td>0</td>\n",
       "      <td>0</td>\n",
       "      <td>0</td>\n",
       "      <td>0</td>\n",
       "      <td>3818</td>\n",
       "      <td>3146</td>\n",
       "      <td>0</td>\n",
       "      <td>1</td>\n",
       "      <td>0</td>\n",
       "      <td>0</td>\n",
       "      <td>1</td>\n",
       "      <td>1</td>\n",
       "    </tr>\n",
       "    <tr>\n",
       "      <th>2</th>\n",
       "      <td>2</td>\n",
       "      <td>1</td>\n",
       "      <td>0</td>\n",
       "      <td>6</td>\n",
       "      <td>23</td>\n",
       "      <td>0</td>\n",
       "      <td>6</td>\n",
       "      <td>0</td>\n",
       "      <td>0</td>\n",
       "      <td>3</td>\n",
       "      <td>0</td>\n",
       "      <td>0</td>\n",
       "      <td>7</td>\n",
       "      <td>6</td>\n",
       "      <td>3</td>\n",
       "      <td>2</td>\n",
       "      <td>2</td>\n",
       "      <td>5</td>\n",
       "      <td>1</td>\n",
       "      <td>0</td>\n",
       "      <td>3</td>\n",
       "      <td>2</td>\n",
       "      <td>1</td>\n",
       "      <td>1</td>\n",
       "      <td>2</td>\n",
       "      <td>0</td>\n",
       "      <td>1</td>\n",
       "      <td>0</td>\n",
       "      <td>0</td>\n",
       "      <td>0</td>\n",
       "      <td>1</td>\n",
       "      <td>1</td>\n",
       "      <td>0</td>\n",
       "      <td>0</td>\n",
       "      <td>1</td>\n",
       "      <td>0</td>\n",
       "      <td>1</td>\n",
       "      <td>4</td>\n",
       "      <td>7</td>\n",
       "      <td>0</td>\n",
       "      <td>0</td>\n",
       "      <td>6785</td>\n",
       "      <td>348</td>\n",
       "      <td>0</td>\n",
       "      <td>209</td>\n",
       "      <td>0</td>\n",
       "      <td>0</td>\n",
       "      <td>0</td>\n",
       "      <td>0</td>\n",
       "      <td>1</td>\n",
       "      <td>0</td>\n",
       "      <td>1</td>\n",
       "      <td>0</td>\n",
       "      <td>1</td>\n",
       "    </tr>\n",
       "    <tr>\n",
       "      <th>3</th>\n",
       "      <td>3</td>\n",
       "      <td>1</td>\n",
       "      <td>1</td>\n",
       "      <td>4</td>\n",
       "      <td>15</td>\n",
       "      <td>0</td>\n",
       "      <td>6</td>\n",
       "      <td>0</td>\n",
       "      <td>2</td>\n",
       "      <td>1</td>\n",
       "      <td>2</td>\n",
       "      <td>0</td>\n",
       "      <td>9</td>\n",
       "      <td>6</td>\n",
       "      <td>0</td>\n",
       "      <td>3</td>\n",
       "      <td>3</td>\n",
       "      <td>3</td>\n",
       "      <td>0</td>\n",
       "      <td>0</td>\n",
       "      <td>3</td>\n",
       "      <td>4</td>\n",
       "      <td>0</td>\n",
       "      <td>3</td>\n",
       "      <td>2</td>\n",
       "      <td>0</td>\n",
       "      <td>0</td>\n",
       "      <td>0</td>\n",
       "      <td>0</td>\n",
       "      <td>1</td>\n",
       "      <td>1</td>\n",
       "      <td>1</td>\n",
       "      <td>0</td>\n",
       "      <td>0</td>\n",
       "      <td>0</td>\n",
       "      <td>0</td>\n",
       "      <td>0</td>\n",
       "      <td>0</td>\n",
       "      <td>7</td>\n",
       "      <td>0</td>\n",
       "      <td>3</td>\n",
       "      <td>2461</td>\n",
       "      <td>0</td>\n",
       "      <td>0</td>\n",
       "      <td>0</td>\n",
       "      <td>0</td>\n",
       "      <td>10996</td>\n",
       "      <td>1833</td>\n",
       "      <td>0</td>\n",
       "      <td>0</td>\n",
       "      <td>0</td>\n",
       "      <td>0</td>\n",
       "      <td>0</td>\n",
       "      <td>1</td>\n",
       "    </tr>\n",
       "    <tr>\n",
       "      <th>4</th>\n",
       "      <td>4</td>\n",
       "      <td>1</td>\n",
       "      <td>1</td>\n",
       "      <td>3</td>\n",
       "      <td>15</td>\n",
       "      <td>0</td>\n",
       "      <td>3</td>\n",
       "      <td>1</td>\n",
       "      <td>2</td>\n",
       "      <td>3</td>\n",
       "      <td>3</td>\n",
       "      <td>0</td>\n",
       "      <td>5</td>\n",
       "      <td>4</td>\n",
       "      <td>3</td>\n",
       "      <td>2</td>\n",
       "      <td>1</td>\n",
       "      <td>3</td>\n",
       "      <td>1</td>\n",
       "      <td>0</td>\n",
       "      <td>1</td>\n",
       "      <td>0</td>\n",
       "      <td>1</td>\n",
       "      <td>0</td>\n",
       "      <td>1</td>\n",
       "      <td>0</td>\n",
       "      <td>0</td>\n",
       "      <td>0</td>\n",
       "      <td>0</td>\n",
       "      <td>0</td>\n",
       "      <td>1</td>\n",
       "      <td>1</td>\n",
       "      <td>1</td>\n",
       "      <td>0</td>\n",
       "      <td>0</td>\n",
       "      <td>0</td>\n",
       "      <td>0</td>\n",
       "      <td>0</td>\n",
       "      <td>8</td>\n",
       "      <td>0</td>\n",
       "      <td>0</td>\n",
       "      <td>2177</td>\n",
       "      <td>0</td>\n",
       "      <td>0</td>\n",
       "      <td>143</td>\n",
       "      <td>0</td>\n",
       "      <td>1902</td>\n",
       "      <td>2206</td>\n",
       "      <td>0</td>\n",
       "      <td>1</td>\n",
       "      <td>1</td>\n",
       "      <td>0</td>\n",
       "      <td>0</td>\n",
       "      <td>1</td>\n",
       "    </tr>\n",
       "  </tbody>\n",
       "</table>\n",
       "</div>"
      ],
      "text/plain": [
       "   ID  Gender  Race  Age_at_Release  Residence_PUMA  Gang_Affiliated  \\\n",
       "0   0       1     0               5              15                0   \n",
       "1   1       1     0               3              15                0   \n",
       "2   2       1     0               6              23                0   \n",
       "3   3       1     1               4              15                0   \n",
       "4   4       1     1               3              15                0   \n",
       "\n",
       "   Supervision_Risk_Score_First  Supervision_Level_First  Education_Level  \\\n",
       "0                             2                        2                0   \n",
       "1                             5                        1                2   \n",
       "2                             6                        0                0   \n",
       "3                             6                        0                2   \n",
       "4                             3                        1                2   \n",
       "\n",
       "   Dependents  Prison_Offense  Prison_Years  Prior_Arrest_Episodes_Felony  \\\n",
       "0           3               0             3                             7   \n",
       "1           1               3             3                             8   \n",
       "2           3               0             0                             7   \n",
       "3           1               2             0                             9   \n",
       "4           3               3             0                             5   \n",
       "\n",
       "   Prior_Arrest_Episodes_Misd  Prior_Arrest_Episodes_Violent  \\\n",
       "0                           6                              1   \n",
       "1                           6                              3   \n",
       "2                           6                              3   \n",
       "3                           6                              0   \n",
       "4                           4                              3   \n",
       "\n",
       "   Prior_Arrest_Episodes_Property  Prior_Arrest_Episodes_Drug  \\\n",
       "0                               3                           3   \n",
       "1                               0                           3   \n",
       "2                               2                           2   \n",
       "3                               3                           3   \n",
       "4                               2                           1   \n",
       "\n",
       "   Prior_Arrest_Episodes_PPViolationCharges  Prior_Arrest_Episodes_DVCharges  \\\n",
       "0                                         4                                0   \n",
       "1                                         5                                1   \n",
       "2                                         5                                1   \n",
       "3                                         3                                0   \n",
       "4                                         3                                1   \n",
       "\n",
       "   Prior_Arrest_Episodes_GunCharges  Prior_Conviction_Episodes_Felony  \\\n",
       "0                                 0                                 3   \n",
       "1                                 0                                 3   \n",
       "2                                 0                                 3   \n",
       "3                                 0                                 3   \n",
       "4                                 0                                 1   \n",
       "\n",
       "   Prior_Conviction_Episodes_Misd  Prior_Conviction_Episodes_Viol  \\\n",
       "0                               3                               0   \n",
       "1                               4                               1   \n",
       "2                               2                               1   \n",
       "3                               4                               0   \n",
       "4                               0                               1   \n",
       "\n",
       "   Prior_Conviction_Episodes_Prop  Prior_Conviction_Episodes_Drug  \\\n",
       "0                               2                               2   \n",
       "1                               0                               2   \n",
       "2                               1                               2   \n",
       "3                               3                               2   \n",
       "4                               0                               1   \n",
       "\n",
       "   Prior_Conviction_Episodes_PPViolationCharges  \\\n",
       "0                                             0   \n",
       "1                                             1   \n",
       "2                                             0   \n",
       "3                                             0   \n",
       "4                                             0   \n",
       "\n",
       "   Prior_Conviction_Episodes_DomesticViolenceCharges  \\\n",
       "0                                                  0   \n",
       "1                                                  1   \n",
       "2                                                  1   \n",
       "3                                                  0   \n",
       "4                                                  0   \n",
       "\n",
       "   Prior_Conviction_Episodes_GunCharges  Prior_Revocations_Parole  \\\n",
       "0                                     0                         0   \n",
       "1                                     1                         0   \n",
       "2                                     0                         0   \n",
       "3                                     0                         0   \n",
       "4                                     0                         0   \n",
       "\n",
       "   Prior_Revocations_Probation  Condition_MH_SA  Condition_Cog_Ed  \\\n",
       "0                            0                1                 1   \n",
       "1                            0                0                 0   \n",
       "2                            0                1                 1   \n",
       "3                            1                1                 1   \n",
       "4                            0                1                 1   \n",
       "\n",
       "   Condition_Other  Violations_ElectronicMonitoring  Violations_Instruction  \\\n",
       "0                0                                0                       0   \n",
       "1                0                                0                       1   \n",
       "2                0                                0                       1   \n",
       "3                0                                0                       0   \n",
       "4                1                                0                       0   \n",
       "\n",
       "   Violations_FailToReport  Violations_MoveWithoutPermission  \\\n",
       "0                        0                                 0   \n",
       "1                        0                                 0   \n",
       "2                        0                                 1   \n",
       "3                        0                                 0   \n",
       "4                        0                                 0   \n",
       "\n",
       "   Delinquency_Reports  Program_Attendances  Program_UnexcusedAbsences  \\\n",
       "0                    0                    7                          0   \n",
       "1                    4                    0                          0   \n",
       "2                    4                    7                          0   \n",
       "3                    0                    7                          0   \n",
       "4                    0                    8                          0   \n",
       "\n",
       "   Residence_Changes  Avg_Days_per_DrugTest  DrugTests_THC_Positive  \\\n",
       "0                  2                   9639                       0   \n",
       "1                  2                   3570                       0   \n",
       "2                  0                   6785                     348   \n",
       "3                  3                   2461                       0   \n",
       "4                  0                   2177                       0   \n",
       "\n",
       "   DrugTests_Cocaine_Positive  DrugTests_Meth_Positive  \\\n",
       "0                           0                        0   \n",
       "1                           0                        0   \n",
       "2                           0                      209   \n",
       "3                           0                        0   \n",
       "4                           0                      143   \n",
       "\n",
       "   DrugTests_Other_Positive  Percent_Days_Employed  Jobs_Per_Year  \\\n",
       "0                         0                   4370           1192   \n",
       "1                         0                   3818           3146   \n",
       "2                         0                      0              0   \n",
       "3                         0                  10996           1833   \n",
       "4                         0                   1902           2206   \n",
       "\n",
       "   Employment_Exempt  Recidivism_Within_3years  Recidivism_Arrest_Year1  \\\n",
       "0                  0                         0                        0   \n",
       "1                  0                         1                        0   \n",
       "2                  0                         1                        0   \n",
       "3                  0                         0                        0   \n",
       "4                  0                         1                        1   \n",
       "\n",
       "   Recidivism_Arrest_Year2  Recidivism_Arrest_Year3  Training_Sample  \n",
       "0                        0                        0                1  \n",
       "1                        0                        1                1  \n",
       "2                        1                        0                1  \n",
       "3                        0                        0                1  \n",
       "4                        0                        0                1  "
      ]
     },
     "execution_count": 13,
     "metadata": {},
     "output_type": "execute_result"
    }
   ],
   "source": [
    "clean_data.head(5)"
   ]
  },
  {
   "cell_type": "code",
   "execution_count": 14,
   "id": "7aeeca30",
   "metadata": {},
   "outputs": [],
   "source": [
    "#running models\n",
    "def run_model(model,Xtrain, ytrain,Xtest, ytest):\n",
    "    model.fit(Xtrain, ytrain)\n",
    "    score = model.score(Xtest, ytest)\n",
    "    recall = recall_score(ytest, model.predict(Xtest))\n",
    "    matrix = confusion_matrix(ytest, model.predict(Xtest))\n",
    "    precision = precision_score(ytest, model.predict(Xtest))\n",
    "    print(matrix)\n",
    "    return score,recall, precision"
   ]
  },
  {
   "cell_type": "code",
   "execution_count": 15,
   "id": "108ae1cd",
   "metadata": {},
   "outputs": [],
   "source": [
    "#preparing data when scaling\n",
    "def prepare_data(X,y,scale=True):\n",
    "    #split and scale -- super important to scale makes model more accurate\n",
    "    Xtrain, Xtest, ytrain, ytest = train_test_split(X, y, test_size=0.2, random_state=13)\n",
    "    if scale:\n",
    "        sc = StandardScaler()\n",
    "        Xtrain = sc.fit_transform(Xtrain)\n",
    "        Xtest = sc.transform(Xtest)\n",
    "    return Xtrain, Xtest, ytrain, ytest"
   ]
  },
  {
   "cell_type": "code",
   "execution_count": 16,
   "id": "1841b30e",
   "metadata": {},
   "outputs": [],
   "source": [
    "#fancy confusion matrix \n",
    "def confusion_map(model, Xtest, ytest):\n",
    "    confusion = confusion_matrix(ytest, model.predict(Xtest))\n",
    "    group_names = ['True Neg','False Pos','False Neg','True Pos']\n",
    "    group_counts = [\"{0:0.0f}\".format(value) for value in confusion.flatten()]\n",
    "    group_percentages = [\"{0:.2%}\".format(value) for value in confusion.flatten()/np.sum(confusion)]\n",
    "    labels = [f\"{v1}\\n{v2}\\n{v3}\" for v1, v2, v3 in\n",
    "              zip(group_names,group_counts,group_percentages)]\n",
    "    labels = np.asarray(labels).reshape(2,2)\n",
    "    return sns.heatmap(confusion, annot=labels, fmt='', cmap='Greens')"
   ]
  },
  {
   "cell_type": "code",
   "execution_count": 17,
   "id": "dd989914",
   "metadata": {},
   "outputs": [],
   "source": [
    "#handpicked dataframe\n",
    "data_subset = clean_data[['Gender', 'Dependents',\n",
    "                          'Prior_Revocations_Parole', 'Prior_Revocations_Probation', \n",
    "                          'Recidivism_Within_3years', 'Age_at_Release', 'Supervision_Risk_Score_First', \n",
    "                          'Supervision_Level_First', 'Education_Level', 'Prison_Years',\n",
    "                          'Prior_Arrest_Episodes_Felony','Prior_Arrest_Episodes_Misd',\n",
    "                          'Program_Attendances', 'Percent_Days_Employed']]"
   ]
  },
  {
   "cell_type": "code",
   "execution_count": 18,
   "id": "00052475",
   "metadata": {},
   "outputs": [
    {
     "data": {
      "text/plain": [
       "(25835, 14)"
      ]
     },
     "execution_count": 18,
     "metadata": {},
     "output_type": "execute_result"
    }
   ],
   "source": [
    "data_subset = data_subset.dropna(axis=0)\n",
    "data_subset.shape"
   ]
  },
  {
   "cell_type": "code",
   "execution_count": 19,
   "id": "980c1899",
   "metadata": {},
   "outputs": [],
   "source": [
    "#creating feature and targets\n",
    "y = data_subset.Recidivism_Within_3years\n",
    "X = data_subset.drop(['Recidivism_Within_3years'], axis=1)"
   ]
  },
  {
   "cell_type": "code",
   "execution_count": 20,
   "id": "b50f7e92",
   "metadata": {},
   "outputs": [],
   "source": [
    "#creating feature and targets\n",
    "y = data_subset.Recidivism_Within_3years\n",
    "X = data_subset.drop(['Recidivism_Within_3years'], axis=1)"
   ]
  },
  {
   "cell_type": "markdown",
   "id": "0926d331",
   "metadata": {},
   "source": [
    "Next I go through each model and run them with and without scaling to see the difference "
   ]
  },
  {
   "cell_type": "markdown",
   "id": "d8761a33",
   "metadata": {},
   "source": [
    "## Logistic"
   ]
  },
  {
   "cell_type": "code",
   "execution_count": 22,
   "id": "64b7b0ec",
   "metadata": {},
   "outputs": [],
   "source": [
    "#run_model function returns score, recall, precision"
   ]
  },
  {
   "cell_type": "markdown",
   "id": "7c79da91",
   "metadata": {},
   "source": [
    "### Regular"
   ]
  },
  {
   "cell_type": "code",
   "execution_count": 23,
   "id": "59bb0e95",
   "metadata": {},
   "outputs": [],
   "source": [
    "#not using function because no scale\n",
    "Xtrain, Xtest, ytrain, ytest = train_test_split(X, y, test_size=0.2, random_state=13)\n",
    "logistic = LogisticRegression(max_iter= 500)"
   ]
  },
  {
   "cell_type": "code",
   "execution_count": 24,
   "id": "61e06452",
   "metadata": {},
   "outputs": [
    {
     "name": "stdout",
     "output_type": "stream",
     "text": [
      "[[1135 1046]\n",
      " [ 620 2366]]\n"
     ]
    },
    {
     "data": {
      "text/plain": [
       "(0.6775691890845752, 0.7923643670462157, 0.6934349355216881)"
      ]
     },
     "execution_count": 24,
     "metadata": {},
     "output_type": "execute_result"
    }
   ],
   "source": [
    "run_model(logistic,Xtrain, ytrain,Xtest, ytest)"
   ]
  },
  {
   "cell_type": "code",
   "execution_count": 25,
   "id": "944253e0",
   "metadata": {},
   "outputs": [
    {
     "data": {
      "text/plain": [
       "<AxesSubplot:>"
      ]
     },
     "execution_count": 25,
     "metadata": {},
     "output_type": "execute_result"
    },
    {
     "data": {
      "image/png": "[encoded data removed]",
      "text/plain": [
       "<Figure size 432x288 with 2 Axes>"
      ]
     },
     "metadata": {
      "needs_background": "light"
     },
     "output_type": "display_data"
    }
   ],
   "source": [
    "confusion_map(logistic, Xtest, ytest)"
   ]
  },
  {
   "cell_type": "markdown",
   "id": "d909e270",
   "metadata": {},
   "source": [
    "### With Scaling"
   ]
  },
  {
   "cell_type": "code",
   "execution_count": 26,
   "id": "45eaa658",
   "metadata": {},
   "outputs": [],
   "source": [
    "Xtrain, Xtest, ytrain, ytest= prepare_data(X,y, scale=True)"
   ]
  },
  {
   "cell_type": "code",
   "execution_count": 27,
   "id": "b348514d",
   "metadata": {},
   "outputs": [
    {
     "name": "stdout",
     "output_type": "stream",
     "text": [
      "[[1132 1049]\n",
      " [ 611 2375]]\n"
     ]
    },
    {
     "data": {
      "text/plain": [
       "(0.6787304044900329, 0.7953784326858674, 0.6936331775700935)"
      ]
     },
     "execution_count": 27,
     "metadata": {},
     "output_type": "execute_result"
    }
   ],
   "source": [
    "run_model(logistic,Xtrain, ytrain,Xtest, ytest)"
   ]
  },
  {
   "cell_type": "code",
   "execution_count": 28,
   "id": "6844ab94",
   "metadata": {},
   "outputs": [
    {
     "data": {
      "text/plain": [
       "<AxesSubplot:>"
      ]
     },
     "execution_count": 28,
     "metadata": {},
     "output_type": "execute_result"
    },
    {
     "data": {
      "image/png": "[encoded data removed]",
      "text/plain": [
       "<Figure size 432x288 with 2 Axes>"
      ]
     },
     "metadata": {
      "needs_background": "light"
     },
     "output_type": "display_data"
    }
   ],
   "source": [
    "confusion_map(logistic, Xtest, ytest)"
   ]
  },
  {
   "cell_type": "markdown",
   "id": "e53cead2",
   "metadata": {},
   "source": [
    "## SVM"
   ]
  },
  {
   "cell_type": "code",
   "execution_count": 29,
   "id": "21e6e7fb",
   "metadata": {},
   "outputs": [],
   "source": [
    "Xtrain, Xtest, ytrain, ytest = train_test_split(X, y, test_size=0.2, random_state=13)"
   ]
  },
  {
   "cell_type": "code",
   "execution_count": 30,
   "id": "6ce5843a",
   "metadata": {},
   "outputs": [
    {
     "name": "stdout",
     "output_type": "stream",
     "text": [
      "[[1142 1039]\n",
      " [ 796 2190]]\n"
     ]
    },
    {
     "data": {
      "text/plain": [
       "(0.6448616218308496, 0.7334226389819156, 0.6782285537318055)"
      ]
     },
     "execution_count": 30,
     "metadata": {},
     "output_type": "execute_result"
    }
   ],
   "source": [
    "svc = SVC()\n",
    "run_model(svc, Xtrain, ytrain,Xtest, ytest)"
   ]
  },
  {
   "cell_type": "code",
   "execution_count": 31,
   "id": "e89ca8da",
   "metadata": {},
   "outputs": [
    {
     "data": {
      "text/plain": [
       "<AxesSubplot:>"
      ]
     },
     "execution_count": 31,
     "metadata": {},
     "output_type": "execute_result"
    },
    {
     "data": {
      "image/png": "[encoded data removed]",
      "text/plain": [
       "<Figure size 432x288 with 2 Axes>"
      ]
     },
     "metadata": {
      "needs_background": "light"
     },
     "output_type": "display_data"
    }
   ],
   "source": [
    "confusion_map(svc, Xtest, ytest)"
   ]
  },
  {
   "cell_type": "markdown",
   "id": "a62a0da5",
   "metadata": {},
   "source": [
    "### With Scaling"
   ]
  },
  {
   "cell_type": "code",
   "execution_count": 32,
   "id": "3575a603",
   "metadata": {},
   "outputs": [],
   "source": [
    "Xtrain, Xtest, ytrain, ytest = prepare_data(X, y, scale= True)"
   ]
  },
  {
   "cell_type": "code",
   "execution_count": 33,
   "id": "0a40ac75",
   "metadata": {},
   "outputs": [
    {
     "name": "stdout",
     "output_type": "stream",
     "text": [
      "[[1083 1098]\n",
      " [ 483 2503]]\n"
     ]
    },
    {
     "data": {
      "text/plain": [
       "(0.6940197406618928, 0.8382451440053583, 0.695084698694807)"
      ]
     },
     "execution_count": 33,
     "metadata": {},
     "output_type": "execute_result"
    }
   ],
   "source": [
    "run_model(svc, Xtrain, ytrain, Xtest, ytest)"
   ]
  },
  {
   "cell_type": "code",
   "execution_count": 34,
   "id": "e7b8940e",
   "metadata": {},
   "outputs": [
    {
     "data": {
      "text/plain": [
       "<AxesSubplot:>"
      ]
     },
     "execution_count": 34,
     "metadata": {},
     "output_type": "execute_result"
    },
    {
     "data": {
      "image/png": "[encoded data removed]",
      "text/plain": [
       "<Figure size 432x288 with 2 Axes>"
      ]
     },
     "metadata": {
      "needs_background": "light"
     },
     "output_type": "display_data"
    }
   ],
   "source": [
    "confusion_map(svc, Xtest, ytest)"
   ]
  },
  {
   "cell_type": "markdown",
   "id": "e4a918d9",
   "metadata": {},
   "source": [
    "# Model with Auto Selection"
   ]
  },
  {
   "cell_type": "markdown",
   "id": "12449ecc",
   "metadata": {},
   "source": [
    "Now I am looking at the feature selector in sklearn to see which columns it picks and how that model performs"
   ]
  },
  {
   "cell_type": "code",
   "execution_count": 36,
   "id": "e992c466",
   "metadata": {},
   "outputs": [],
   "source": [
    "#picking the variavles to drop when creating x and y\n",
    "drop=['ID','Recidivism_Arrest_Year1','Recidivism_Arrest_Year2','Recidivism_Arrest_Year3','Training_Sample', \n",
    "      'Recidivism_Within_3years']"
   ]
  },
  {
   "cell_type": "code",
   "execution_count": 37,
   "id": "a1df998b",
   "metadata": {},
   "outputs": [],
   "source": [
    "y= clean_data.Recidivism_Within_3years\n",
    "#using drop to drop columns determined at the beginning \n",
    "X= clean_data.drop(drop, axis = 1)"
   ]
  },
  {
   "cell_type": "code",
   "execution_count": 38,
   "id": "dfb64098",
   "metadata": {},
   "outputs": [],
   "source": [
    "#feature function to use to help pick count of variables \n",
    "def find_features(X,y,count,model=LogisticRegression(max_iter= 500)):\n",
    "    Xtrain, Xtest, ytrain, ytest = train_test_split(X, y, test_size=0.2, random_state=13)\n",
    "    #scaling data-- must do\n",
    "    X_scaled = StandardScaler().fit_transform(Xtrain)\n",
    "    sfs = SequentialFeatureSelector(model, n_features_to_select=count,n_jobs=-1)\n",
    "    sfs.fit(X_scaled, ytrain)\n",
    "    return X.loc[:, sfs.get_support()]"
   ]
  },
  {
   "cell_type": "code",
   "execution_count": 39,
   "id": "fde8170d",
   "metadata": {},
   "outputs": [],
   "source": [
    "#printing result so i can easily scroll through to compare \n",
    "def print_results(model_type,score,recall,confusion_matrix):\n",
    "    print(f\"\\n{model_type}:\")\n",
    "    print(\"  Score: \",score)\n",
    "    print(\"  recall: \",recall)\n",
    "    print(\"  Confusion Matrix: \",confusion)\n",
    "    "
   ]
  },
  {
   "cell_type": "code",
   "execution_count": 40,
   "id": "045043e0",
   "metadata": {},
   "outputs": [
    {
     "name": "stdout",
     "output_type": "stream",
     "text": [
      "Feature Count: 2\n",
      "Columns: Prior_Arrest_Episodes_PPViolationCharges, Percent_Days_Employed\n",
      "[[1017 1164]\n",
      " [ 615 2371]]\n",
      "\n",
      "LogisticRegression:\n",
      "  Score:  0.6556996322817883\n",
      "  recall:  0.7940388479571333\n",
      "  Confusion Matrix:  [[1017 1164]\n",
      " [ 615 2371]]\n",
      "[[1062 1119]\n",
      " [ 631 2355]]\n",
      "\n",
      "SVC:\n",
      "  Score:  0.6613121734081672\n",
      "  recall:  0.7886805090421969\n",
      "  Confusion Matrix:  [[1062 1119]\n",
      " [ 631 2355]]\n",
      "\n",
      "\n",
      "\n",
      "Feature Count: 5\n",
      "Columns: Age_at_Release, Prior_Arrest_Episodes_Property, Prior_Arrest_Episodes_PPViolationCharges, DrugTests_THC_Positive, Percent_Days_Employed\n",
      "[[1191  990]\n",
      " [ 599 2387]]\n",
      "\n",
      "LogisticRegression:\n",
      "  Score:  0.6924714534546158\n",
      "  recall:  0.7993971868720696\n",
      "  Confusion Matrix:  [[1191  990]\n",
      " [ 599 2387]]\n",
      "[[1114 1067]\n",
      " [ 504 2482]]\n",
      "\n",
      "SVC:\n",
      "  Score:  0.695955099670989\n",
      "  recall:  0.8312123241795043\n",
      "  Confusion Matrix:  [[1114 1067]\n",
      " [ 504 2482]]\n",
      "\n",
      "\n",
      "\n",
      "Feature Count: 7\n",
      "Columns: Gender, Age_at_Release, Gang_Affiliated, Prior_Arrest_Episodes_Property, Prior_Arrest_Episodes_PPViolationCharges, DrugTests_THC_Positive, Percent_Days_Employed\n",
      "[[1239  942]\n",
      " [ 602 2384]]\n",
      "\n",
      "LogisticRegression:\n",
      "  Score:  0.7011805689955487\n",
      "  recall:  0.7983924983255191\n",
      "  Confusion Matrix:  [[1239  942]\n",
      " [ 602 2384]]\n",
      "[[1155 1026]\n",
      " [ 507 2479]]\n",
      "\n",
      "SVC:\n",
      "  Score:  0.7033094639055545\n",
      "  recall:  0.8302076356329537\n",
      "  Confusion Matrix:  [[1155 1026]\n",
      " [ 507 2479]]\n",
      "\n",
      "\n",
      "\n",
      "Feature Count: 8\n",
      "Columns: Gender, Age_at_Release, Gang_Affiliated, Prior_Arrest_Episodes_Property, Prior_Arrest_Episodes_PPViolationCharges, DrugTests_THC_Positive, Percent_Days_Employed, Jobs_Per_Year\n",
      "[[1240  941]\n",
      " [ 581 2405]]\n",
      "\n",
      "LogisticRegression:\n",
      "  Score:  0.7054383588155603\n",
      "  recall:  0.8054253181513731\n",
      "  Confusion Matrix:  [[1240  941]\n",
      " [ 581 2405]]\n",
      "[[1171 1010]\n",
      " [ 418 2568]]\n",
      "\n",
      "SVC:\n",
      "  Score:  0.7236307335010644\n",
      "  recall:  0.8600133958472873\n",
      "  Confusion Matrix:  [[1171 1010]\n",
      " [ 418 2568]]\n",
      "\n",
      "\n",
      "\n",
      "Feature Count: 10\n",
      "Columns: Gender, Age_at_Release, Gang_Affiliated, Prior_Arrest_Episodes_Misd, Prior_Arrest_Episodes_Property, Prior_Arrest_Episodes_PPViolationCharges, Condition_MH_SA, DrugTests_THC_Positive, Percent_Days_Employed, Jobs_Per_Year\n",
      "[[1226  955]\n",
      " [ 559 2427]]\n",
      "\n",
      "LogisticRegression:\n",
      "  Score:  0.7069866460228372\n",
      "  recall:  0.8127930341594106\n",
      "  Confusion Matrix:  [[1226  955]\n",
      " [ 559 2427]]\n",
      "[[1161 1020]\n",
      " [ 402 2584]]\n",
      "\n",
      "SVC:\n",
      "  Score:  0.7247919489065222\n",
      "  recall:  0.8653717347622237\n",
      "  Confusion Matrix:  [[1161 1020]\n",
      " [ 402 2584]]\n",
      "\n",
      "\n",
      "\n",
      "Feature Count: 15\n",
      "Columns: Gender, Age_at_Release, Gang_Affiliated, Dependents, Prior_Arrest_Episodes_Misd, Prior_Arrest_Episodes_Property, Prior_Arrest_Episodes_PPViolationCharges, Prior_Conviction_Episodes_Felony, Prior_Conviction_Episodes_DomesticViolenceCharges, Prior_Revocations_Parole, Condition_MH_SA, Residence_Changes, DrugTests_THC_Positive, Percent_Days_Employed, Jobs_Per_Year\n",
      "[[1241  940]\n",
      " [ 558 2428]]\n",
      "\n",
      "LogisticRegression:\n",
      "  Score:  0.7100832204373911\n",
      "  recall:  0.8131279303415941\n",
      "  Confusion Matrix:  [[1241  940]\n",
      " [ 558 2428]]\n",
      "[[1178 1003]\n",
      " [ 431 2555]]\n",
      "\n",
      "SVC:\n",
      "  Score:  0.7224695180956068\n",
      "  recall:  0.8556597454789016\n",
      "  Confusion Matrix:  [[1178 1003]\n",
      " [ 431 2555]]\n",
      "\n",
      "\n",
      "\n"
     ]
    }
   ],
   "source": [
    "for feature_count in [2,5,7,8,10,15]:\n",
    "    #printing the feature count\n",
    "    print(f\"Feature Count: {feature_count}\")\n",
    "    \n",
    "    #runnung feature finder on the full X matrix with recidivism after 3 years as target\n",
    "    reduced = find_features(X,y,feature_count)\n",
    "    print(\"Columns:\", ', '.join(list(reduced.columns)))\n",
    "    \n",
    "    #split and scale\n",
    "    Xtrain, Xtest, ytrain, ytest = prepare_data(reduced,y)\n",
    "    \n",
    "    #running each model with the chosen variables to see how they perform and using print results function\n",
    "    logistic = LogisticRegression(max_iter= 500)\n",
    "    score,recall,precision = run_model(logistic,Xtrain, ytrain,Xtest, ytest)\n",
    "    confusion = confusion_matrix(ytest, logistic.predict(Xtest))\n",
    "    print_results(\"LogisticRegression\",score,recall,confusion)\n",
    "    \n",
    "    svc = SVC(kernel='rbf',C=1)\n",
    "    score,recall,precision = run_model(svc,Xtrain, ytrain,Xtest, ytest)\n",
    "    confusion = confusion_matrix(ytest, svc.predict(Xtest))\n",
    "    print_results(\"SVC\",score,recall,confusion)\n",
    "    \n",
    "    print(\"\\n\\n\")"
   ]
  },
  {
   "cell_type": "markdown",
   "id": "482d43dc",
   "metadata": {},
   "source": [
    "## Feature Selection Data"
   ]
  },
  {
   "cell_type": "code",
   "execution_count": 41,
   "id": "5e7a4f82",
   "metadata": {},
   "outputs": [],
   "source": [
    "small = clean_data[['Gender', 'Age_at_Release', 'Gang_Affiliated', 'Prior_Arrest_Episodes_Misd', \n",
    "                    'Prior_Arrest_Episodes_Property', 'Prior_Arrest_Episodes_PPViolationCharges', \n",
    "                    'Condition_MH_SA', 'DrugTests_THC_Positive', 'Percent_Days_Employed', 'Jobs_Per_Year', \n",
    "                    'Recidivism_Within_3years']]"
   ]
  },
  {
   "cell_type": "code",
   "execution_count": 42,
   "id": "ad2861a3",
   "metadata": {},
   "outputs": [],
   "source": [
    "#creating targets and features\n",
    "y = small.Recidivism_Within_3years\n",
    "X = small.drop(['Recidivism_Within_3years'], axis=1)"
   ]
  },
  {
   "cell_type": "markdown",
   "id": "086f0bd6",
   "metadata": {},
   "source": [
    "### Logistic"
   ]
  },
  {
   "cell_type": "markdown",
   "id": "1dc2c435",
   "metadata": {},
   "source": [
    "Running same functions as above on the data auto-selected"
   ]
  },
  {
   "cell_type": "code",
   "execution_count": 43,
   "id": "0d31508c",
   "metadata": {},
   "outputs": [
    {
     "name": "stdout",
     "output_type": "stream",
     "text": [
      "[[1188  993]\n",
      " [ 537 2449]]\n"
     ]
    },
    {
     "data": {
      "text/plain": [
       "(0.7038900716082833, 0.820160750167448, 0.71150493898896)"
      ]
     },
     "execution_count": 43,
     "metadata": {},
     "output_type": "execute_result"
    }
   ],
   "source": [
    "Xtrain, Xtest, ytrain, ytest = train_test_split(X, y, test_size=0.2, random_state=13)\n",
    "run_model(logistic, Xtrain, ytrain, Xtest, ytest)"
   ]
  },
  {
   "cell_type": "code",
   "execution_count": 44,
   "id": "353b6280",
   "metadata": {},
   "outputs": [
    {
     "data": {
      "text/plain": [
       "<AxesSubplot:>"
      ]
     },
     "execution_count": 44,
     "metadata": {},
     "output_type": "execute_result"
    },
    {
     "data": {
      "image/png": "[encoded data removed]",
      "text/plain": [
       "<Figure size 432x288 with 2 Axes>"
      ]
     },
     "metadata": {
      "needs_background": "light"
     },
     "output_type": "display_data"
    }
   ],
   "source": [
    "confusion_map(logistic, Xtest, ytest)"
   ]
  },
  {
   "cell_type": "markdown",
   "id": "2bd9857e",
   "metadata": {},
   "source": [
    "### With Scaling"
   ]
  },
  {
   "cell_type": "code",
   "execution_count": 45,
   "id": "c6904c7d",
   "metadata": {},
   "outputs": [],
   "source": [
    "Xtrain, Xtest, ytrain, ytest = prepare_data(X,y)"
   ]
  },
  {
   "cell_type": "code",
   "execution_count": 46,
   "id": "71cdcd11",
   "metadata": {},
   "outputs": [
    {
     "name": "stdout",
     "output_type": "stream",
     "text": [
      "[[1226  955]\n",
      " [ 559 2427]]\n"
     ]
    },
    {
     "data": {
      "text/plain": [
       "(0.7069866460228372, 0.8127930341594106, 0.7176227084565346)"
      ]
     },
     "execution_count": 46,
     "metadata": {},
     "output_type": "execute_result"
    }
   ],
   "source": [
    "run_model(logistic, Xtrain, ytrain, Xtest, ytest)"
   ]
  },
  {
   "cell_type": "code",
   "execution_count": 47,
   "id": "95283178",
   "metadata": {},
   "outputs": [
    {
     "data": {
      "text/plain": [
       "<AxesSubplot:>"
      ]
     },
     "execution_count": 47,
     "metadata": {},
     "output_type": "execute_result"
    },
    {
     "data": {
      "image/png": "[encoded data removed]",
      "text/plain": [
       "<Figure size 432x288 with 2 Axes>"
      ]
     },
     "metadata": {
      "needs_background": "light"
     },
     "output_type": "display_data"
    }
   ],
   "source": [
    "confusion_map(logistic, Xtest, ytest)"
   ]
  },
  {
   "cell_type": "markdown",
   "id": "28eb7a8e",
   "metadata": {},
   "source": [
    "### SVM"
   ]
  },
  {
   "cell_type": "code",
   "execution_count": 48,
   "id": "69bfc277",
   "metadata": {},
   "outputs": [],
   "source": [
    "Xtrain, Xtest, ytrain, ytest = train_test_split(X, y, test_size=0.2, random_state=13)"
   ]
  },
  {
   "cell_type": "code",
   "execution_count": 49,
   "id": "29de7b99",
   "metadata": {},
   "outputs": [
    {
     "name": "stdout",
     "output_type": "stream",
     "text": [
      "[[1175 1006]\n",
      " [ 672 2314]]\n"
     ]
    },
    {
     "data": {
      "text/plain": [
       "(0.6752467582736598, 0.7749497655726725, 0.696987951807229)"
      ]
     },
     "execution_count": 49,
     "metadata": {},
     "output_type": "execute_result"
    }
   ],
   "source": [
    "run_model(svc, Xtrain, ytrain, Xtest, ytest)"
   ]
  },
  {
   "cell_type": "code",
   "execution_count": 50,
   "id": "ca73e0f5",
   "metadata": {},
   "outputs": [
    {
     "data": {
      "text/plain": [
       "<AxesSubplot:>"
      ]
     },
     "execution_count": 50,
     "metadata": {},
     "output_type": "execute_result"
    },
    {
     "data": {
      "image/png": "[encoded data removed]",
      "text/plain": [
       "<Figure size 432x288 with 2 Axes>"
      ]
     },
     "metadata": {
      "needs_background": "light"
     },
     "output_type": "display_data"
    }
   ],
   "source": [
    "confusion_map(svc, Xtest, ytest)"
   ]
  },
  {
   "cell_type": "markdown",
   "id": "e2f4fd0e",
   "metadata": {},
   "source": [
    "### With Scaling"
   ]
  },
  {
   "cell_type": "code",
   "execution_count": 51,
   "id": "fd93e924",
   "metadata": {},
   "outputs": [],
   "source": [
    "Xtrain, Xtest, ytrain, ytest= prepare_data(X,y, scale=True)"
   ]
  },
  {
   "cell_type": "code",
   "execution_count": 52,
   "id": "5fac4f33",
   "metadata": {},
   "outputs": [
    {
     "name": "stdout",
     "output_type": "stream",
     "text": [
      "[[1161 1020]\n",
      " [ 402 2584]]\n"
     ]
    },
    {
     "data": {
      "text/plain": [
       "(0.7247919489065222, 0.8653717347622237, 0.7169811320754716)"
      ]
     },
     "execution_count": 52,
     "metadata": {},
     "output_type": "execute_result"
    }
   ],
   "source": [
    "run_model(svc, Xtrain, ytrain, Xtest, ytest)"
   ]
  },
  {
   "cell_type": "code",
   "execution_count": 53,
   "id": "d9de0116",
   "metadata": {},
   "outputs": [
    {
     "data": {
      "text/plain": [
       "<AxesSubplot:>"
      ]
     },
     "execution_count": 53,
     "metadata": {},
     "output_type": "execute_result"
    },
    {
     "data": {
      "image/png": "[encoded data removed]",
      "text/plain": [
       "<Figure size 432x288 with 2 Axes>"
      ]
     },
     "metadata": {
      "needs_background": "light"
     },
     "output_type": "display_data"
    }
   ],
   "source": [
    "confusion_map(svc, Xtest,ytest)"
   ]
  },
  {
   "cell_type": "code",
   "execution_count": 54,
   "id": "bb41a529",
   "metadata": {},
   "outputs": [],
   "source": [
    "#since this model performed the best I will find feature importance with it\n",
    "#getting accuracy, precision, recall scores with the full auto-selected data\n",
    "all_recall = recall_score(ytest, svc.predict(Xtest))\n",
    "all_score = svc.score(Xtest, ytest)\n",
    "all_precision = precision_score(ytest, svc.predict(Xtest))"
   ]
  },
  {
   "cell_type": "markdown",
   "id": "e4aa829a",
   "metadata": {},
   "source": [
    "# Feature Importance"
   ]
  },
  {
   "cell_type": "code",
   "execution_count": 55,
   "id": "a7a13c12",
   "metadata": {},
   "outputs": [
    {
     "name": "stdout",
     "output_type": "stream",
     "text": [
      "Dropping  Gender\n",
      "[[1151 1030]\n",
      " [ 401 2585]]\n",
      "\n",
      "SVM:\n",
      "  Score:  0.7230501257983356\n",
      "  recall:  0.8657066309444073\n",
      "  Confusion Matrix:  [[1151 1030]\n",
      " [ 401 2585]]\n",
      "Score recall:  -0.00033489618218351946\n",
      "\n",
      "\n",
      "\n",
      "Dropping  Age_at_Release\n",
      "[[1132 1049]\n",
      " [ 436 2550]]\n",
      "\n",
      "SVM:\n",
      "  Score:  0.7125991871492162\n",
      "  recall:  0.853985264567984\n",
      "  Confusion Matrix:  [[1132 1049]\n",
      " [ 436 2550]]\n",
      "Score recall:  0.011386470194239773\n",
      "\n",
      "\n",
      "\n",
      "Dropping  Gang_Affiliated\n",
      "[[1141 1040]\n",
      " [ 385 2601]]\n",
      "\n",
      "SVM:\n",
      "  Score:  0.7242113412037933\n",
      "  recall:  0.8710649698593436\n",
      "  Confusion Matrix:  [[1141 1040]\n",
      " [ 385 2601]]\n",
      "Score recall:  -0.005693235097119831\n",
      "\n",
      "\n",
      "\n",
      "Dropping  Prior_Arrest_Episodes_Misd\n",
      "[[1161 1020]\n",
      " [ 413 2573]]\n",
      "\n",
      "SVM:\n",
      "  Score:  0.7226630539965163\n",
      "  recall:  0.8616878767582049\n",
      "  Confusion Matrix:  [[1161 1020]\n",
      " [ 413 2573]]\n",
      "Score recall:  0.003683858004018825\n",
      "\n",
      "\n",
      "\n",
      "Dropping  Prior_Arrest_Episodes_Property\n",
      "[[1132 1049]\n",
      " [ 425 2561]]\n",
      "\n",
      "SVM:\n",
      "  Score:  0.714728082059222\n",
      "  recall:  0.8576691225720027\n",
      "  Confusion Matrix:  [[1132 1049]\n",
      " [ 425 2561]]\n",
      "Score recall:  0.007702612190221059\n",
      "\n",
      "\n",
      "\n",
      "Dropping  Prior_Arrest_Episodes_PPViolationCharges\n",
      "[[1123 1058]\n",
      " [ 402 2584]]\n",
      "\n",
      "SVM:\n",
      "  Score:  0.7174375846719566\n",
      "  recall:  0.8653717347622237\n",
      "  Confusion Matrix:  [[1123 1058]\n",
      " [ 402 2584]]\n",
      "Score recall:  0.0\n",
      "\n",
      "\n",
      "\n",
      "Dropping  Condition_MH_SA\n",
      "[[1166 1015]\n",
      " [ 427 2559]]\n",
      "\n",
      "SVM:\n",
      "  Score:  0.7209212308883298\n",
      "  recall:  0.8569993302076356\n",
      "  Confusion Matrix:  [[1166 1015]\n",
      " [ 427 2559]]\n",
      "Score recall:  0.008372404554588098\n",
      "\n",
      "\n",
      "\n",
      "Dropping  DrugTests_THC_Positive\n",
      "[[1186  995]\n",
      " [ 422 2564]]\n",
      "\n",
      "SVM:\n",
      "  Score:  0.7257596284110702\n",
      "  recall:  0.8586738111185532\n",
      "  Confusion Matrix:  [[1186  995]\n",
      " [ 422 2564]]\n",
      "Score recall:  0.0066979236436705\n",
      "\n",
      "\n",
      "\n",
      "Dropping  Percent_Days_Employed\n",
      "[[1014 1167]\n",
      " [ 469 2517]]\n",
      "\n",
      "SVM:\n",
      "  Score:  0.6833752661118637\n",
      "  recall:  0.8429336905559277\n",
      "  Confusion Matrix:  [[1014 1167]\n",
      " [ 469 2517]]\n",
      "Score recall:  0.022438044206296026\n",
      "\n",
      "\n",
      "\n",
      "Dropping  Jobs_Per_Year\n",
      "[[1125 1056]\n",
      " [ 495 2491]]\n",
      "\n",
      "SVM:\n",
      "  Score:  0.6998258176891814\n",
      "  recall:  0.8342263898191561\n",
      "  Confusion Matrix:  [[1125 1056]\n",
      " [ 495 2491]]\n",
      "Score recall:  0.031145344943067643\n",
      "\n",
      "\n",
      "\n"
     ]
    }
   ],
   "source": [
    "column_data=[]\n",
    "for i in range(10):\n",
    "    #stating dropped column\n",
    "    print(\"Dropping \",X.columns[i])\n",
    "    #creating new dataframe\n",
    "    dropped = X.drop(X.columns[i],axis=1)\n",
    "    #getting model data \n",
    "    Xtrain, Xtest, ytrain, ytest = prepare_data(dropped,y)\n",
    "    #using svc since that model performed the best\n",
    "    svc = SVC()\n",
    "    score,recall, precision = run_model(svc,Xtrain, ytrain,Xtest, ytest)\n",
    "    confusion = confusion_matrix(ytest, svc.predict(Xtest))\n",
    "    #getting difference from full data\n",
    "    #added precision because I was curious\n",
    "    delta_recall = all_recall-recall\n",
    "    delta_score = all_score-score\n",
    "    delta_precision = all_precision - precision\n",
    "    #adding it to array\n",
    "    column_data.append([X.columns[i],delta_recall,delta_score,delta_precision])\n",
    "    #showing results\n",
    "    print_results(\"SVM\",score,recall,confusion)\n",
    "    print(\"Score recall: \",delta_recall)\n",
    "    print(\"\\n\\n\")"
   ]
  },
  {
   "cell_type": "code",
   "execution_count": 56,
   "id": "2134c414",
   "metadata": {},
   "outputs": [
    {
     "data": {
      "text/html": [
       "<div>\n",
       "<style scoped>\n",
       "    .dataframe tbody tr th:only-of-type {\n",
       "        vertical-align: middle;\n",
       "    }\n",
       "\n",
       "    .dataframe tbody tr th {\n",
       "        vertical-align: top;\n",
       "    }\n",
       "\n",
       "    .dataframe thead th {\n",
       "        text-align: right;\n",
       "    }\n",
       "</style>\n",
       "<table border=\"1\" class=\"dataframe\">\n",
       "  <thead>\n",
       "    <tr style=\"text-align: right;\">\n",
       "      <th></th>\n",
       "      <th>Column</th>\n",
       "      <th>Recall</th>\n",
       "      <th>Accuracy</th>\n",
       "      <th>Precision</th>\n",
       "    </tr>\n",
       "  </thead>\n",
       "  <tbody>\n",
       "    <tr>\n",
       "      <th>9</th>\n",
       "      <td>Jobs_Per_Year</td>\n",
       "      <td>0.031145</td>\n",
       "      <td>0.024966</td>\n",
       "      <td>0.014698</td>\n",
       "    </tr>\n",
       "    <tr>\n",
       "      <th>8</th>\n",
       "      <td>Percent_Days_Employed</td>\n",
       "      <td>0.022438</td>\n",
       "      <td>0.041417</td>\n",
       "      <td>0.033756</td>\n",
       "    </tr>\n",
       "    <tr>\n",
       "      <th>1</th>\n",
       "      <td>Age_at_Release</td>\n",
       "      <td>0.011386</td>\n",
       "      <td>0.012193</td>\n",
       "      <td>0.008451</td>\n",
       "    </tr>\n",
       "    <tr>\n",
       "      <th>6</th>\n",
       "      <td>Condition_MH_SA</td>\n",
       "      <td>0.008372</td>\n",
       "      <td>0.003871</td>\n",
       "      <td>0.000977</td>\n",
       "    </tr>\n",
       "    <tr>\n",
       "      <th>4</th>\n",
       "      <td>Prior_Arrest_Episodes_Property</td>\n",
       "      <td>0.007703</td>\n",
       "      <td>0.010064</td>\n",
       "      <td>0.007563</td>\n",
       "    </tr>\n",
       "    <tr>\n",
       "      <th>7</th>\n",
       "      <td>DrugTests_THC_Positive</td>\n",
       "      <td>0.006698</td>\n",
       "      <td>-0.000968</td>\n",
       "      <td>-0.003446</td>\n",
       "    </tr>\n",
       "    <tr>\n",
       "      <th>3</th>\n",
       "      <td>Prior_Arrest_Episodes_Misd</td>\n",
       "      <td>0.003684</td>\n",
       "      <td>0.002129</td>\n",
       "      <td>0.000866</td>\n",
       "    </tr>\n",
       "    <tr>\n",
       "      <th>5</th>\n",
       "      <td>Prior_Arrest_Episodes_PPViolationCharges</td>\n",
       "      <td>0.000000</td>\n",
       "      <td>0.007354</td>\n",
       "      <td>0.007481</td>\n",
       "    </tr>\n",
       "    <tr>\n",
       "      <th>0</th>\n",
       "      <td>Gender</td>\n",
       "      <td>-0.000335</td>\n",
       "      <td>0.001742</td>\n",
       "      <td>0.001905</td>\n",
       "    </tr>\n",
       "    <tr>\n",
       "      <th>2</th>\n",
       "      <td>Gang_Affiliated</td>\n",
       "      <td>-0.005693</td>\n",
       "      <td>0.000581</td>\n",
       "      <td>0.002617</td>\n",
       "    </tr>\n",
       "  </tbody>\n",
       "</table>\n",
       "</div>"
      ],
      "text/plain": [
       "                                     Column    Recall  Accuracy  Precision\n",
       "9                             Jobs_Per_Year  0.031145  0.024966   0.014698\n",
       "8                     Percent_Days_Employed  0.022438  0.041417   0.033756\n",
       "1                            Age_at_Release  0.011386  0.012193   0.008451\n",
       "6                           Condition_MH_SA  0.008372  0.003871   0.000977\n",
       "4            Prior_Arrest_Episodes_Property  0.007703  0.010064   0.007563\n",
       "7                    DrugTests_THC_Positive  0.006698 -0.000968  -0.003446\n",
       "3                Prior_Arrest_Episodes_Misd  0.003684  0.002129   0.000866\n",
       "5  Prior_Arrest_Episodes_PPViolationCharges  0.000000  0.007354   0.007481\n",
       "0                                    Gender -0.000335  0.001742   0.001905\n",
       "2                           Gang_Affiliated -0.005693  0.000581   0.002617"
      ]
     },
     "execution_count": 56,
     "metadata": {},
     "output_type": "execute_result"
    }
   ],
   "source": [
    "#adding info to data frame\n",
    "scores_df=pd.DataFrame(column_data,columns=['Column','Recall', 'Accuracy', 'Precision'])\n",
    "scores_df=scores_df.sort_values(\"Recall\",ascending=False)\n",
    "scores_df"
   ]
  },
  {
   "cell_type": "markdown",
   "id": "46270fc9",
   "metadata": {},
   "source": [
    "## Decision Tree"
   ]
  },
  {
   "cell_type": "markdown",
   "id": "a294d33d",
   "metadata": {},
   "source": [
    "I wanted to look at the decision tree variable importance to see if the results were similar to the way that I determined variable importance since that was used a lot during presentations. "
   ]
  },
  {
   "cell_type": "code",
   "execution_count": 57,
   "id": "0966ab10",
   "metadata": {},
   "outputs": [],
   "source": [
    "Xtrain, Xtest, ytrain, ytest = train_test_split(X, y, test_size=0.2, random_state=13)"
   ]
  },
  {
   "cell_type": "code",
   "execution_count": 58,
   "id": "cea55217",
   "metadata": {},
   "outputs": [],
   "source": [
    "tree = DecisionTreeClassifier(max_depth= 8)"
   ]
  },
  {
   "cell_type": "code",
   "execution_count": 59,
   "id": "415f5f12",
   "metadata": {},
   "outputs": [
    {
     "data": {
      "text/plain": [
       "DecisionTreeClassifier(max_depth=8)"
      ]
     },
     "execution_count": 59,
     "metadata": {},
     "output_type": "execute_result"
    }
   ],
   "source": [
    "tree.fit(Xtrain, ytrain)"
   ]
  },
  {
   "cell_type": "code",
   "execution_count": 60,
   "id": "ffeb1abb",
   "metadata": {},
   "outputs": [
    {
     "data": {
      "text/plain": [
       "0.7036965357073737"
      ]
     },
     "execution_count": 60,
     "metadata": {},
     "output_type": "execute_result"
    }
   ],
   "source": [
    "tree.score(Xtest, ytest)"
   ]
  },
  {
   "cell_type": "markdown",
   "id": "e24b12d0",
   "metadata": {},
   "source": [
    "## Random Forest"
   ]
  },
  {
   "cell_type": "code",
   "execution_count": 61,
   "id": "827b1783",
   "metadata": {},
   "outputs": [],
   "source": [
    "Xtrain, Xtest, ytrain, ytest = train_test_split(X, y, test_size=0.2, random_state=13)"
   ]
  },
  {
   "cell_type": "code",
   "execution_count": 62,
   "id": "c4d16324",
   "metadata": {},
   "outputs": [
    {
     "data": {
      "text/plain": [
       "RandomForestClassifier(n_estimators=1000, random_state=13)"
      ]
     },
     "execution_count": 62,
     "metadata": {},
     "output_type": "execute_result"
    }
   ],
   "source": [
    "rfmodel = RandomForestClassifier(n_estimators=1000, random_state=13)\n",
    "rfmodel.fit(Xtrain, ytrain)"
   ]
  },
  {
   "cell_type": "code",
   "execution_count": 63,
   "id": "f56abcbc",
   "metadata": {},
   "outputs": [
    {
     "data": {
      "text/plain": [
       "0.7122121153473969"
      ]
     },
     "execution_count": 63,
     "metadata": {},
     "output_type": "execute_result"
    }
   ],
   "source": [
    "#score because im curious\n",
    "rfmodel.score(Xtest, ytest)"
   ]
  },
  {
   "cell_type": "code",
   "execution_count": 64,
   "id": "c841e8a4",
   "metadata": {},
   "outputs": [
    {
     "data": {
      "image/png": "[encoded data removed]",
      "text/plain": [
       "<Figure size 432x288 with 1 Axes>"
      ]
     },
     "metadata": {
      "needs_background": "light"
     },
     "output_type": "display_data"
    }
   ],
   "source": [
    "# plot variable importance\n",
    "var_imp = pd.DataFrame({'Variable': X.columns, \n",
    "                        'Importance': rfmodel.feature_importances_})\n",
    "var_imp = var_imp.sort_values(by='Importance')\n",
    "plt.barh(var_imp['Variable'], var_imp['Importance'])\n",
    "plt.xlabel('Proportion')\n",
    "plt.ylabel('Variable')\n",
    "plt.title('Variable Importance (Random Forest)')\n",
    "plt.show()"
   ]
  },
  {
   "cell_type": "code",
   "execution_count": null,
   "id": "01d9736d",
   "metadata": {},
   "outputs": [],
   "source": []
  }
 ],
 "metadata": {
  "kernelspec": {
   "display_name": "Python 3 (ipykernel)",
   "language": "python",
   "name": "python3"
  },
  "language_info": {
   "codemirror_mode": {
    "name": "ipython",
    "version": 3
   },
   "file_extension": ".py",
   "mimetype": "text/x-python",
   "name": "python",
   "nbconvert_exporter": "python",
   "pygments_lexer": "ipython3",
   "version": "3.9.12"
  }
 },
 "nbformat": 4,
 "nbformat_minor": 5
}
